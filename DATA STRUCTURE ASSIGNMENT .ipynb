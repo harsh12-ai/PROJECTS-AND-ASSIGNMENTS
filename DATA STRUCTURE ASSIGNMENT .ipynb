{
 "cells": [
  {
   "cell_type": "code",
   "execution_count": 1,
   "id": "61e75799-1a33-41a0-9619-be297961d583",
   "metadata": {},
   "outputs": [
    {
     "name": "stdout",
     "output_type": "stream",
     "text": [
      "olleh\n"
     ]
    },
    {
     "data": {
      "text/plain": [
       "'olleh'"
      ]
     },
     "execution_count": 1,
     "metadata": {},
     "output_type": "execute_result"
    }
   ],
   "source": [
    "# Q .1 -- Write a code to reverse a string.\n",
    "# Ans -- \n",
    "def reverse_string(s):\n",
    "    return s[::-1]\n",
    "\n",
    "# Example usage:\n",
    "input_string = \"hello\"\n",
    "reversed_string = reverse_string(input_string)\n",
    "print(reversed_string)  # Output: \"olleh\"\n",
    "\n",
    "## 2nd method\n",
    "s = \"hello\"\n",
    "s[::-1]"
   ]
  },
  {
   "cell_type": "code",
   "execution_count": 2,
   "id": "88734861-4a87-4341-a6b1-e6063703d240",
   "metadata": {},
   "outputs": [
    {
     "name": "stdout",
     "output_type": "stream",
     "text": [
      "3\n"
     ]
    }
   ],
   "source": [
    "# Q.2 -- Write a code to count the number of vowels in a string.\n",
    "# Ans -- \n",
    "def count_vowels(s):\n",
    "    vowels = \"aeiouAEIOU\"\n",
    "    return sum(1 for char in s if char in vowels)\n",
    "\n",
    "# Example usage:\n",
    "input_string = \"Hello World\"\n",
    "vowel_count = count_vowels(input_string)\n",
    "print(vowel_count)  # Output: 3\n"
   ]
  },
  {
   "cell_type": "code",
   "execution_count": 4,
   "id": "eec33be9-5c26-419d-a608-5cd9349f70a0",
   "metadata": {},
   "outputs": [
    {
     "name": "stdout",
     "output_type": "stream",
     "text": [
      "True\n"
     ]
    }
   ],
   "source": [
    "# Q.3 -- Write a code to check if a given string is a palindrome or not.\n",
    "# Ans -- \n",
    "def is_palindrome(s):\n",
    "    # Normalize the string by removing spaces and converting to lowercase\n",
    "    s = s.replace(\" \", \"\").lower()\n",
    "    # Check if the string is equal to its reverse\n",
    "    return s == s[::-1]\n",
    "\n",
    "# Example usage:\n",
    "input_string = \"nitin\"\n",
    "result = is_palindrome(input_string)\n",
    "print(result)  # Output: True\n"
   ]
  },
  {
   "cell_type": "code",
   "execution_count": 8,
   "id": "69cd914b-98d4-49f0-b1ca-58e79c8d7d68",
   "metadata": {},
   "outputs": [
    {
     "name": "stdout",
     "output_type": "stream",
     "text": [
      "True\n"
     ]
    }
   ],
   "source": [
    "# Q.4 -- Write a code to check if two given strings are anagrams of each other.\n",
    "# Ans --\n",
    "from collections import Counter\n",
    "\n",
    "def are_anagrams(str1, str2):\n",
    "    # Normalize the strings by removing spaces and converting to lowercase\n",
    "    str1 = str1.replace(\" \", \"\").lower()\n",
    "    str2 = str2.replace(\" \", \"\").lower()\n",
    "    \n",
    "    # Use Counter to count occurrences of each character\n",
    "    return Counter(str1) == Counter(str2)\n",
    "\n",
    "# Example usage:\n",
    "string1 = \"Listen\"\n",
    "string2 = \"Silent\"\n",
    "result = are_anagrams(string1, string2)\n",
    "print(result)  # Output: True\n"
   ]
  },
  {
   "cell_type": "code",
   "execution_count": 12,
   "id": "85eb1bfd-d63c-40af-b939-bd1d699b1ce0",
   "metadata": {},
   "outputs": [
    {
     "name": "stdout",
     "output_type": "stream",
     "text": [
      "[10, 21, 36]\n"
     ]
    }
   ],
   "source": [
    "# Q.5 -- Write a code to find all occurrence of  given substring within another string.\n",
    "# Ans -- \n",
    "import re\n",
    "\n",
    "def find_all_occurrences(haystack, needle):\n",
    "    return [match.start() for match in re.finditer(re.escape(needle), haystack)]\n",
    "\n",
    "# Example usage:\n",
    "text = \"This is a test. This test is only a test.\"\n",
    "substring = \"test\"\n",
    "indices = find_all_occurrences(text, substring)\n",
    "print(indices) \n"
   ]
  },
  {
   "cell_type": "code",
   "execution_count": 14,
   "id": "8815497e-9a94-4fd2-9ba0-5c068d836576",
   "metadata": {},
   "outputs": [
    {
     "name": "stdout",
     "output_type": "stream",
     "text": [
      "a3b2c1a3\n"
     ]
    }
   ],
   "source": [
    "# Q6 -- Write a code to perform basic string compression using the counts of repeated characters.\n",
    "# Ans -- \n",
    "def compress_string(s):\n",
    "    if not s:\n",
    "        return s  # Return empty string if input is empty\n",
    "    \n",
    "    compressed = []  # List to store parts of the compressed string\n",
    "    count = 1  # Counter for consecutive characters\n",
    "    \n",
    "    for i in range(1, len(s)):\n",
    "        if s[i] == s[i - 1]:\n",
    "            count += 1  # Increment count if current character is same as previous\n",
    "        else:\n",
    "            compressed.append(s[i - 1] + str(count))  # Append previous character and its count\n",
    "            count = 1  # Reset count for new character\n",
    "    \n",
    "    # Append the last character and its count\n",
    "    compressed.append(s[-1] + str(count))\n",
    "    \n",
    "    # Join list into a string\n",
    "    compressed_string = ''.join(compressed)\n",
    "    \n",
    "    # Return the compressed string if it's shorter, otherwise return the original string\n",
    "    return compressed_string if len(compressed_string) < len(s) else s\n",
    "\n",
    "# Example usage:\n",
    "original_string = \"aaabbcaaa\"\n",
    "compressed_string = compress_string(original_string)\n",
    "print(compressed_string)  # Output: \"a3b2c1a3\"\n"
   ]
  },
  {
   "cell_type": "code",
   "execution_count": 15,
   "id": "a16d352b-fe3b-4564-ace1-79eb3107d55f",
   "metadata": {},
   "outputs": [
    {
     "name": "stdout",
     "output_type": "stream",
     "text": [
      "True\n",
      "False\n"
     ]
    }
   ],
   "source": [
    "# Q.7 -- Write a code to determine if a string has all unique characters.\n",
    "# Ans -- By using set \n",
    "def has_unique_characters(s):\n",
    "    return len(s) == len(set(s))\n",
    "\n",
    "# Example usage:\n",
    "string = \"abcdef\"\n",
    "print(has_unique_characters(string))  # Output: True\n",
    "\n",
    "string = \"abcdeff\"\n",
    "print(has_unique_characters(string))  # Output: False\n",
    "\n"
   ]
  },
  {
   "cell_type": "code",
   "execution_count": 16,
   "id": "b805f46c-8621-47bb-8640-5d69a4bbba80",
   "metadata": {},
   "outputs": [
    {
     "name": "stdout",
     "output_type": "stream",
     "text": [
      "HELLO, WORLD!\n",
      "hello, world!\n"
     ]
    }
   ],
   "source": [
    "# Q.8 -- Write a code to convert a given string to uppercase or lowercase.\n",
    "# Ans -- \n",
    "def convert_case(s, to_upper=True):\n",
    "    if to_upper:\n",
    "        return s.upper()\n",
    "    else:\n",
    "        return s.lower()\n",
    "\n",
    "# Example usage:\n",
    "string = \"Hello, World!\"\n",
    "\n",
    "# Convert to uppercase\n",
    "uppercase_string = convert_case(string, to_upper=True)\n",
    "print(uppercase_string)  # Output: \"HELLO, WORLD!\"\n",
    "\n",
    "# Convert to lowercase\n",
    "lowercase_string = convert_case(string, to_upper=False)\n",
    "print(lowercase_string)  # Output: \"hello, world!\"\n"
   ]
  },
  {
   "cell_type": "code",
   "execution_count": 19,
   "id": "840c37dd-ffcd-4bc5-ad7d-98480970b2e6",
   "metadata": {},
   "outputs": [
    {
     "name": "stdout",
     "output_type": "stream",
     "text": [
      "6\n"
     ]
    }
   ],
   "source": [
    "# Q.9 -- Write a code to count the number of words in a string.\n",
    "# Ans -- \n",
    "def count_words(s):\n",
    "    words = s.split()  # Split the string by whitespace (default behavior of split())\n",
    "    return len(words)  # Return the number of words\n",
    "\n",
    "# Example usage:\n",
    "string = \"Hello world! This is a test.\"\n",
    "word_count = count_words(string)\n",
    "print(word_count)  \n"
   ]
  },
  {
   "cell_type": "code",
   "execution_count": 20,
   "id": "87630330-0769-4d1c-aae9-4521bdcd3039",
   "metadata": {},
   "outputs": [
    {
     "name": "stdout",
     "output_type": "stream",
     "text": [
      "HelloWorldThisisatest.\n"
     ]
    }
   ],
   "source": [
    "# Q.10 -- Write a code to concatenate two strings without using the + operator.\n",
    "# Ans --\n",
    "def concatenate_strings(strings_list):\n",
    "    return ''.join(strings_list)\n",
    "\n",
    "# Example usage:\n",
    "strings_list = [\"Hello\", \"World\", \"This\", \"is\", \"a\", \"test.\"]\n",
    "result = concatenate_strings(strings_list)\n",
    "print(result) \n"
   ]
  },
  {
   "cell_type": "code",
   "execution_count": 21,
   "id": "b4aeb96e-d7c0-415c-9686-a0c5b9a483c4",
   "metadata": {},
   "outputs": [
    {
     "name": "stdout",
     "output_type": "stream",
     "text": [
      "[1, 3, 4, 5]\n"
     ]
    }
   ],
   "source": [
    "# Q.11 -- Write a code to remove all occurences of a specific element from a list.\n",
    "# Ans -- \n",
    "def remove_occurrences(lst, element):\n",
    "    return list(filter(lambda x: x != element, lst))\n",
    "\n",
    "# Example usage:\n",
    "my_list = [1, 2, 3, 4, 2, 5, 2]\n",
    "element_to_remove = 2\n",
    "result = remove_occurrences(my_list, element_to_remove)\n",
    "print(result)  # Output: [1, 3, 4, 5]\n"
   ]
  },
  {
   "cell_type": "code",
   "execution_count": 22,
   "id": "a8b053d7-1c35-4dcd-a9a9-cd8e5e56701c",
   "metadata": {},
   "outputs": [
    {
     "name": "stdout",
     "output_type": "stream",
     "text": [
      "10\n"
     ]
    }
   ],
   "source": [
    "# Q.12 -- Implement a code to find the second largest number in a given list of integers.\n",
    "def second_largest(nums):\n",
    "    if len(nums) < 2:\n",
    "        raise ValueError(\"List must contain at least two elements\")\n",
    "\n",
    "    first, second = float('-inf'), float('-inf')\n",
    "\n",
    "    for num in nums:\n",
    "        if num > first:\n",
    "            second = first\n",
    "            first = num\n",
    "        elif num > second and num != first:\n",
    "            second = num\n",
    "\n",
    "    if second == float('-inf'):\n",
    "        raise ValueError(\"List must contain at least two unique elements\")\n",
    "\n",
    "    return second\n",
    "\n",
    "# Example usage:\n",
    "numbers = [10, 5, 20, 20, 4]\n",
    "result = second_largest(numbers)\n",
    "print(result) "
   ]
  },
  {
   "cell_type": "code",
   "execution_count": 23,
   "id": "dd692228-99c9-4521-86b8-8b8984cef5da",
   "metadata": {},
   "outputs": [
    {
     "name": "stdout",
     "output_type": "stream",
     "text": [
      "{1: 2, 2: 3, 3: 2, 4: 3}\n"
     ]
    }
   ],
   "source": [
    "# Q.12 -- Create a code to count the occurences of each element in a list and return a dictionary with ele,ets as keys and their counts as values.\n",
    "# Ans -- \n",
    "from collections import Counter\n",
    "\n",
    "def count_occurrences(lst):\n",
    "    return dict(Counter(lst))\n",
    "\n",
    "# Example usage:\n",
    "my_list = [1, 2, 3, 2, 1, 4, 2, 3, 4, 4]\n",
    "result = count_occurrences(my_list)\n",
    "print(result)  \n"
   ]
  },
  {
   "cell_type": "code",
   "execution_count": 26,
   "id": "c6e27cdc-806d-483c-ab17-7017bb3ca5d7",
   "metadata": {},
   "outputs": [
    {
     "name": "stdout",
     "output_type": "stream",
     "text": [
      "[5, 4, 3, 2, 1]\n",
      "['e', 'd', 'c', 'b', 'a']\n"
     ]
    }
   ],
   "source": [
    "# Q.13 -- Write a code to reverse a list in-place without using any built-in reverse function.\n",
    "# Ans -- \n",
    "def reverse_list_in_place(lst):\n",
    "    start = 0\n",
    "    end = len(lst) - 1\n",
    "    \n",
    "    while start < end:\n",
    "        # Swap elements at the start and end indices\n",
    "        lst[start], lst[end] = lst[end], lst[start]\n",
    "        # Move towards the center\n",
    "        start += 1\n",
    "        end -= 1\n",
    "\n",
    "# Example usage:\n",
    "my_list = [1, 2, 3, 4, 5]\n",
    "reverse_list_in_place(my_list)\n",
    "print(my_list)  \n",
    "\n",
    "# Example usage:\n",
    "my_list = [\"a\", \"b\", \"c\", \"d\", \"e\"]\n",
    "reverse_list_in_place(my_list)\n",
    "print(my_list)  \n"
   ]
  },
  {
   "cell_type": "code",
   "execution_count": 27,
   "id": "e5de625a-4767-4a53-965c-5d4b46552635",
   "metadata": {},
   "outputs": [
    {
     "name": "stdout",
     "output_type": "stream",
     "text": [
      "[1, 2, 3, 4, 5, 6]\n"
     ]
    }
   ],
   "source": [
    "# Q.14 -- Implement a code to find and remove duplicates from a list while preserving the original order of elements.\n",
    "# Ans -- \n",
    "def remove_duplicates(lst):\n",
    "    seen = set()\n",
    "    result = []\n",
    "    \n",
    "    for item in lst:\n",
    "        if item not in seen:\n",
    "            seen.add(item)\n",
    "            result.append(item)\n",
    "    \n",
    "    return result\n",
    "\n",
    "# Example usage:\n",
    "my_list = [1, 2, 3, 2, 4, 1, 5, 6, 4]\n",
    "unique_list = remove_duplicates(my_list)\n",
    "print(unique_list)  # Output: [1, 2, 3, 4, 5, 6]\n"
   ]
  },
  {
   "cell_type": "code",
   "execution_count": 28,
   "id": "17c55c1c-d269-41e2-8384-573e53df6a46",
   "metadata": {},
   "outputs": [
    {
     "name": "stdout",
     "output_type": "stream",
     "text": [
      "True\n",
      "True\n",
      "False\n",
      "True\n"
     ]
    }
   ],
   "source": [
    "# Q.16. -- Create a code to check if a given list is sorted (either in ascending or descending order) or not.\n",
    "# Ans -- \n",
    "def is_sorted(lst):\n",
    "    if not lst:  # Check if the list is empty\n",
    "        return True  # An empty list is considered sorted\n",
    "    \n",
    "    # Check ascending order\n",
    "    ascending = all(lst[i] <= lst[i + 1] for i in range(len(lst) - 1))\n",
    "    \n",
    "    # Check descending order\n",
    "    descending = all(lst[i] >= lst[i + 1] for i in range(len(lst) - 1))\n",
    "    \n",
    "    return ascending or descending\n",
    "\n",
    "# Example usage:\n",
    "list1 = [1, 2, 2, 3, 4]\n",
    "list2 = [5, 4, 3, 2, 1]\n",
    "list3 = [1, 3, 2, 4, 5]\n",
    "list4 = []\n",
    "\n",
    "print(is_sorted(list1))  # (Ascending)\n",
    "print(is_sorted(list2))  # (Descending)\n",
    "print(is_sorted(list3))  # neither in dec nor asc\n",
    "print(is_sorted(list4))  # (Empty list is considered sorted)\n"
   ]
  },
  {
   "cell_type": "code",
   "execution_count": 29,
   "id": "43cf9da2-4f9b-4981-87ef-b6cbdd94d7c6",
   "metadata": {},
   "outputs": [
    {
     "name": "stdout",
     "output_type": "stream",
     "text": [
      "[1, 2, 3, 4, 5, 6, 7, 8]\n"
     ]
    }
   ],
   "source": [
    "# Q17. -- Write a code to merge two sorted lists into a single sorted list.\n",
    "# Ans -- \n",
    "def merge_sorted_lists(list1, list2):\n",
    "    merged_list = []\n",
    "    i, j = 0, 0\n",
    "    \n",
    "    # Traverse both lists and compare elements\n",
    "    while i < len(list1) and j < len(list2):\n",
    "        if list1[i] < list2[j]:\n",
    "            merged_list.append(list1[i])\n",
    "            i += 1\n",
    "        else:\n",
    "            merged_list.append(list2[j])\n",
    "            j += 1\n",
    "    \n",
    "    # If there are remaining elements in list1, add them\n",
    "    while i < len(list1):\n",
    "        merged_list.append(list1[i])\n",
    "        i += 1\n",
    "    \n",
    "    # If there are remaining elements in list2, add them\n",
    "    while j < len(list2):\n",
    "        merged_list.append(list2[j])\n",
    "        j += 1\n",
    "    \n",
    "    return merged_list\n",
    "\n",
    "# Example usage:\n",
    "list1 = [1, 3, 5, 7]\n",
    "list2 = [2, 4, 6, 8]\n",
    "merged = merge_sorted_lists(list1, list2)\n",
    "print(merged)  # Output: [1, 2, 3, 4, 5, 6, 7, 8]\n"
   ]
  },
  {
   "cell_type": "code",
   "execution_count": 32,
   "id": "1a18e944-28ad-4db2-a6a7-bb3a626fc6de",
   "metadata": {},
   "outputs": [
    {
     "name": "stdout",
     "output_type": "stream",
     "text": [
      "[4, 5]\n"
     ]
    }
   ],
   "source": [
    "# Q.18 -- Implement a code to find the intersection of two given lists.\n",
    "# Ans -- \n",
    "def intersection_of_lists(list1, list2):\n",
    "    return [item for item in list1 if item in list2]\n",
    "\n",
    "# Example usage:\n",
    "list1 = [1, 2, 3, 4, 5]\n",
    "list2 = [4, 5, 6, 7, 8]\n",
    "result = intersection_of_lists(list1, list2)\n",
    "print(result)  # Output: [4, 5]"
   ]
  },
  {
   "cell_type": "code",
   "execution_count": 34,
   "id": "bbe9711e-17f3-4a0a-b7bc-e8061fb2df65",
   "metadata": {},
   "outputs": [
    {
     "name": "stdout",
     "output_type": "stream",
     "text": [
      "[1, 2, 3, 4, 5, 6, 7, 8]\n"
     ]
    }
   ],
   "source": [
    "# Q.19 -- Create a code to find the union of two lists without duplicates.\n",
    "# Ans --\n",
    "def union_of_lists(list1, list2):\n",
    "    set1 = set(list1)\n",
    "    set2 = set(list2)\n",
    "    union = set1 | set2  # | operator finds the union\n",
    "    return list(union)\n",
    "\n",
    "# Example usage:\n",
    "list1 = [1, 2, 3, 4, 5]\n",
    "list2 = [4, 5, 6, 7, 8]\n",
    "result = union_of_lists(list1, list2)\n",
    "print(result)  "
   ]
  },
  {
   "cell_type": "code",
   "execution_count": 36,
   "id": "691673bb-5246-42fc-a438-9758f1240108",
   "metadata": {},
   "outputs": [
    {
     "name": "stdout",
     "output_type": "stream",
     "text": [
      "[1, 2, 5, 3, 4]\n"
     ]
    }
   ],
   "source": [
    "# Q.20 -- Write a code to shuffle a given list randomly without using any built-in shuffle functions.\n",
    "# Ans -- \n",
    "import random\n",
    "\n",
    "def fisher_yates_shuffle(lst):\n",
    "    n = len(lst)\n",
    "    for i in range(n - 1, 0, -1):\n",
    "        # Pick a random index from 0 to i\n",
    "        j = random.randint(0, i)\n",
    "        # Swap elements at indices i and j\n",
    "        lst[i], lst[j] = lst[j], lst[i]\n",
    "\n",
    "# Example usage:\n",
    "my_list = [1, 2, 3, 4, 5]\n",
    "fisher_yates_shuffle(my_list)\n",
    "print(my_list)  # Output: The list will be shuffled randomly\n"
   ]
  },
  {
   "cell_type": "code",
   "execution_count": 38,
   "id": "624f2632-0d13-4ab0-91ea-0314458a53f5",
   "metadata": {},
   "outputs": [
    {
     "name": "stdout",
     "output_type": "stream",
     "text": [
      "(4, 5)\n"
     ]
    },
    {
     "data": {
      "text/plain": [
       "tuple"
      ]
     },
     "execution_count": 38,
     "metadata": {},
     "output_type": "execute_result"
    }
   ],
   "source": [
    "# Q.21 -- Write a code that takes two tuples as input and returns a new tuple containing elements that are common to both input tuples.\n",
    "def common_elements(tuple1, tuple2):\n",
    "    # Convert tuples to sets\n",
    "    set1 = set(tuple1)\n",
    "    set2 = set(tuple2)\n",
    "    \n",
    "    # Find the intersection\n",
    "    common_set = set1 & set2\n",
    "    \n",
    "    # Convert the result back to a tuple\n",
    "    common_tuple = tuple(common_set)\n",
    "    \n",
    "    return common_tuple\n",
    "\n",
    "# Example usage:\n",
    "tuple1 = (1, 2, 3, 4, 5)\n",
    "tuple2 = (4, 5, 6, 7, 8)\n",
    "result = common_elements(tuple1, tuple2)\n",
    "print(result)  \n",
    "type(result)"
   ]
  },
  {
   "cell_type": "code",
   "execution_count": 39,
   "id": "03251fd2-3f37-40e0-ac02-19ea4a8a76a8",
   "metadata": {},
   "outputs": [
    {
     "name": "stdout",
     "output_type": "stream",
     "text": [
      "Enter the first set of integers separated by commas:  1, 2, 3, 4, 5\n",
      "Enter the second set of integers separated by commas:  4, 5, 6, 7, 8\n"
     ]
    },
    {
     "name": "stdout",
     "output_type": "stream",
     "text": [
      "The intersection of the two sets is: {4, 5}\n"
     ]
    }
   ],
   "source": [
    "# Q.22 -- Create a code that prompts the user to enter two sets of integers separated by commas. Then, print the intersection of these two sets.\n",
    "# Ans. -- \n",
    "def get_set_from_input(prompt):\n",
    "    # Prompt the user for input\n",
    "    user_input = input(prompt)\n",
    "    \n",
    "    # Split the input string by commas, strip extra spaces, and convert to integers\n",
    "    input_list = user_input.split(',')\n",
    "    input_set = set(int(x.strip()) for x in input_list)\n",
    "    \n",
    "    return input_set\n",
    "\n",
    "def main():\n",
    "    # Get two sets of integers from the user\n",
    "    set1 = get_set_from_input(\"Enter the first set of integers separated by commas: \")\n",
    "    set2 = get_set_from_input(\"Enter the second set of integers separated by commas: \")\n",
    "    \n",
    "    # Find the intersection of the two sets\n",
    "    intersection = set1 & set2\n",
    "    \n",
    "    # Print the result\n",
    "    print(\"The intersection of the two sets is:\", intersection)\n",
    "\n",
    "# Call the main function\n",
    "if __name__ == \"__main__\":\n",
    "    main()\n"
   ]
  },
  {
   "cell_type": "code",
   "execution_count": 40,
   "id": "4886aa50-dffa-43ba-92fc-d21407bbe461",
   "metadata": {},
   "outputs": [
    {
     "name": "stdout",
     "output_type": "stream",
     "text": [
      "(1, 2, 3, 4, 5, 6)\n"
     ]
    }
   ],
   "source": [
    "# Q23 -- Write a code to concatenate two tuples. The function should take two tuples as input and return a new tuple containing elements from both input tuples. \n",
    "# Ans -- \n",
    "def concatenate_tuples(tuple1, tuple2):\n",
    "    # Concatenate the two tuples\n",
    "    result = tuple1 + tuple2\n",
    "    return result\n",
    "\n",
    "# Example usage\n",
    "tuple1 = (1, 2, 3)\n",
    "tuple2 = (4, 5, 6)\n",
    "result = concatenate_tuples(tuple1, tuple2)\n",
    "print(result) \n"
   ]
  },
  {
   "cell_type": "code",
   "execution_count": 41,
   "id": "853ed7be-0886-42e2-af2a-94f4cd2edfea",
   "metadata": {},
   "outputs": [
    {
     "name": "stdout",
     "output_type": "stream",
     "text": [
      "Enter the first set of strings separated by commas:  apple, banana, cherry\n",
      "Enter the second set of strings separated by commas:  banana, date, fig\n"
     ]
    },
    {
     "name": "stdout",
     "output_type": "stream",
     "text": [
      "Elements in the first set but not in the second set: {'cherry', 'apple'}\n"
     ]
    }
   ],
   "source": [
    "# Q24. Develope a code that prompts the user to input two sets of strings. Then, print the element that are present in the first set but not in the second set.\n",
    "# Ans -- \n",
    "def get_set_from_input(prompt):\n",
    "    # Prompt the user for input\n",
    "    user_input = input(prompt)\n",
    "    \n",
    "    # Split the input string by commas, strip extra spaces, and convert to set of strings\n",
    "    input_set = set(x.strip() for x in user_input.split(','))\n",
    "    \n",
    "    return input_set\n",
    "\n",
    "def main():\n",
    "    # Get two sets of strings from the user\n",
    "    set1 = get_set_from_input(\"Enter the first set of strings separated by commas: \")\n",
    "    set2 = get_set_from_input(\"Enter the second set of strings separated by commas: \")\n",
    "    \n",
    "    # Find elements present in set1 but not in set2\n",
    "    difference = set1 - set2\n",
    "    \n",
    "    # Print the result\n",
    "    print(\"Elements in the first set but not in the second set:\", difference)\n",
    "\n",
    "# Call the main function\n",
    "if __name__ == \"__main__\":\n",
    "    main()\n"
   ]
  },
  {
   "cell_type": "code",
   "execution_count": 2,
   "id": "414f00bb-8353-4244-8417-d29eb4c38421",
   "metadata": {},
   "outputs": [
    {
     "name": "stdout",
     "output_type": "stream",
     "text": [
      "Enter the start index:  1\n",
      "Enter the end index:  2\n"
     ]
    },
    {
     "name": "stdout",
     "output_type": "stream",
     "text": [
      "New tuple: (20, 30)\n"
     ]
    }
   ],
   "source": [
    "# Q25. Create a code that takes a tuple and two integers as input. the function should return a new tuple containing elements from the original tuple within the swpecified range of indices.\n",
    "# Ans \n",
    "def slice_tuple(tup, start_index, end_index):\n",
    "    \"\"\"\n",
    "    Returns a new tuple containing elements from the original tuple\n",
    "    between the specified start_index and end_index (inclusive).\n",
    "    \n",
    "    Parameters:\n",
    "    - tup: The original tuple from which elements will be extracted.\n",
    "    - start_index: The starting index (inclusive).\n",
    "    - end_index: The ending index (inclusive).\n",
    "    \n",
    "    Returns:\n",
    "    - A tuple containing elements within the specified range of indices.\n",
    "    \"\"\"\n",
    "    # Check if indices are within the valid range\n",
    "    if not (0 <= start_index < len(tup)) or not (0 <= end_index < len(tup)):\n",
    "        raise ValueError(\"Indices are out of the valid range\")\n",
    "    \n",
    "    if start_index > end_index:\n",
    "        raise ValueError(\"Start index must not be greater than end index\")\n",
    "    \n",
    "    # Return the sliced tuple\n",
    "    return tup[start_index:end_index+1]\n",
    "\n",
    "# Example usage\n",
    "if __name__ == \"__main__\":\n",
    "    original_tuple = (10, 20, 30, 40, 50, 60, 70, 80, 90, 100)\n",
    "    start_index = int(input(\"Enter the start index: \"))\n",
    "    end_index = int(input(\"Enter the end index: \"))\n",
    "    \n",
    "    try:\n",
    "        new_tuple = slice_tuple(original_tuple, start_index, end_index)\n",
    "        print(\"New tuple:\", new_tuple)\n",
    "    except ValueError as e:\n",
    "        print(e)\n"
   ]
  },
  {
   "cell_type": "code",
   "execution_count": 3,
   "id": "d9d47ddc-76cb-49c9-8a59-5add17a20bc6",
   "metadata": {},
   "outputs": [
    {
     "name": "stdout",
     "output_type": "stream",
     "text": [
      "Enter the first set of characters:  A\n",
      "Enter the second set of characters:  B\n"
     ]
    },
    {
     "name": "stdout",
     "output_type": "stream",
     "text": [
      "Union of the two sets: {'A', 'B'}\n"
     ]
    }
   ],
   "source": [
    "# Q26. Write a code that prompts the user to input two sets of charcters. then union of these two sets.\n",
    "# Ans \n",
    "def main():\n",
    "    # Prompt the user to input two sets of characters\n",
    "    input1 = input(\"Enter the first set of characters: \")\n",
    "    input2 = input(\"Enter the second set of characters: \")\n",
    "\n",
    "    # Convert the input strings to sets\n",
    "    set1 = set(input1)\n",
    "    set2 = set(input2)\n",
    "\n",
    "    # Perform the union operation\n",
    "    union_set = set1 | set2  # or use set1.union(set2)\n",
    "\n",
    "    # Display the result\n",
    "    print(\"Union of the two sets:\", union_set)\n",
    "\n",
    "if __name__ == \"__main__\":\n",
    "    main()\n"
   ]
  },
  {
   "cell_type": "code",
   "execution_count": 6,
   "id": "c872e2bf-f1db-4a9e-8c70-e99519e30435",
   "metadata": {},
   "outputs": [
    {
     "name": "stdout",
     "output_type": "stream",
     "text": [
      "Enter integers separated by spaces:  1 2 3\n"
     ]
    },
    {
     "name": "stdout",
     "output_type": "stream",
     "text": [
      "Maximum value: 3\n",
      "Minimum value: 1\n"
     ]
    }
   ],
   "source": [
    "# Q27. Develope a code that takes a tuple of integers as input. The function should return the maximum and minimun values from the tuple using tuple unpacking.\n",
    "# Ans \n",
    "def find_max_min(tup):\n",
    "    \"\"\"\n",
    "    Takes a tuple of integers and returns the maximum and minimum values using tuple unpacking.\n",
    "    \n",
    "    Parameters:\n",
    "    - tup: A tuple of integers.\n",
    "    \n",
    "    Returns:\n",
    "    - A tuple containing the maximum and minimum values.\n",
    "    \"\"\"\n",
    "    # Ensure the tuple is not empty\n",
    "    if not tup:\n",
    "        raise ValueError(\"The input tuple is empty\")\n",
    "    \n",
    "    # Find maximum and minimum values\n",
    "    maximum = max(tup)\n",
    "    minimum = min(tup)\n",
    "    \n",
    "    # Return as a tuple (maximum, minimum)\n",
    "    return maximum, minimum\n",
    "\n",
    "# Example usage\n",
    "if __name__ == \"__main__\":\n",
    "    # Input from the user\n",
    "    raw_input = input(\"Enter integers separated by spaces: \")\n",
    "    \n",
    "    # Process the input\n",
    "    # Replace any commas with spaces and split by spaces to get individual numbers\n",
    "    processed_input = raw_input.replace(',', ' ').split()\n",
    "    input_tuple = tuple(map(int, processed_input))\n",
    "    \n",
    "    try:\n",
    "        # Find max and min values\n",
    "        max_value, min_value = find_max_min(input_tuple)\n",
    "        print(f\"Maximum value: {max_value}\")\n",
    "        print(f\"Minimum value: {min_value}\")\n",
    "    except ValueError as e:\n",
    "        print(e)\n"
   ]
  },
  {
   "cell_type": "code",
   "execution_count": 18,
   "id": "7b377cc7-f58b-410b-bd5e-0720e0fa8896",
   "metadata": {},
   "outputs": [
    {
     "data": {
      "text/plain": [
       "{1, 3}"
      ]
     },
     "execution_count": 18,
     "metadata": {},
     "output_type": "execute_result"
    }
   ],
   "source": [
    "# Q28. Create a code that defines two sets of integers. then, print the union, intersection and differnce of these two sets\n",
    "# Ans\n",
    "a = {1, 2, 3, 4, 5, 6, 7}\n",
    "b = {4, 5, 6, 7, 8, 2}\n",
    "# union \n",
    "a | b\n",
    "\n",
    "# intersection \n",
    "a & b\n",
    "\n",
    "# Difference\n",
    "a-b"
   ]
  },
  {
   "cell_type": "code",
   "execution_count": 11,
   "id": "3aaf8516-d542-4496-b9e3-930718c8dc5d",
   "metadata": {},
   "outputs": [
    {
     "data": {
      "text/plain": [
       "set"
      ]
     },
     "execution_count": 11,
     "metadata": {},
     "output_type": "execute_result"
    }
   ],
   "source": [
    "type(a)"
   ]
  },
  {
   "cell_type": "code",
   "execution_count": 19,
   "id": "bcb5d88d-ae9c-4309-a47b-f726e55c33b0",
   "metadata": {},
   "outputs": [
    {
     "data": {
      "text/plain": [
       "{1, 2, 3, 4, 5, 6, 7, 8}"
      ]
     },
     "execution_count": 19,
     "metadata": {},
     "output_type": "execute_result"
    }
   ],
   "source": [
    "a | b"
   ]
  },
  {
   "cell_type": "code",
   "execution_count": 20,
   "id": "44a9be68-1faf-4003-997b-6c89a5e9839f",
   "metadata": {},
   "outputs": [
    {
     "name": "stdout",
     "output_type": "stream",
     "text": [
      "Set 1: {1, 2, 3, 4, 5}\n",
      "Set 2: {4, 5, 6, 7, 8}\n",
      "Union of Set 1 and Set 2: {1, 2, 3, 4, 5, 6, 7, 8}\n",
      "Intersection of Set 1 and Set 2: {4, 5}\n",
      "Difference of Set 1 and Set 2 (Set 1 - Set 2): {1, 2, 3}\n"
     ]
    }
   ],
   "source": [
    "# ssecond method of question number 28\n",
    "def main():\n",
    "    # Define two sets of integers\n",
    "    set1 = {1, 2, 3, 4, 5}\n",
    "    set2 = {4, 5, 6, 7, 8}\n",
    "    \n",
    "    # Compute the union of the two sets\n",
    "    union_set = set1 | set2  # or use set1.union(set2)\n",
    "    \n",
    "    # Compute the intersection of the two sets\n",
    "    intersection_set = set1 & set2  # or use set1.intersection(set2)\n",
    "    \n",
    "    # Compute the difference of the two sets\n",
    "    difference_set = set1 - set2  # or use set1.difference(set2)\n",
    "    \n",
    "    # Print the results\n",
    "    print(\"Set 1:\", set1)\n",
    "    print(\"Set 2:\", set2)\n",
    "    print(\"Union of Set 1 and Set 2:\", union_set)\n",
    "    print(\"Intersection of Set 1 and Set 2:\", intersection_set)\n",
    "    print(\"Difference of Set 1 and Set 2 (Set 1 - Set 2):\", difference_set)\n",
    "\n",
    "if __name__ == \"__main__\":\n",
    "    main()\n"
   ]
  },
  {
   "cell_type": "code",
   "execution_count": 21,
   "id": "3fd16cd2-e9ee-4efd-b449-cb02e92b4399",
   "metadata": {},
   "outputs": [
    {
     "name": "stdout",
     "output_type": "stream",
     "text": [
      "Enter integers separated by spaces:  1 2 3 \n",
      "Enter the element to count:  2\n"
     ]
    },
    {
     "name": "stdout",
     "output_type": "stream",
     "text": [
      "The element 2 occurs 1 times in the tuple.\n"
     ]
    }
   ],
   "source": [
    "# Q29 Write a code that takes a tuple and an element as input. The function should return the count of occurences of the given element in the tuple.\n",
    "# Ans -\n",
    "def count_occurrences(tup, element):\n",
    "    \"\"\"\n",
    "    Takes a tuple and an element as input, and returns the count of occurrences of the given element in the tuple.\n",
    "    \n",
    "    Parameters:\n",
    "    - tup: A tuple of elements.\n",
    "    - element: The element whose occurrences need to be counted.\n",
    "    \n",
    "    Returns:\n",
    "    - The count of occurrences of the element in the tuple.\n",
    "    \"\"\"\n",
    "    # Use the count() method to find the number of occurrences of the element\n",
    "    count = tup.count(element)\n",
    "    \n",
    "    return count\n",
    "\n",
    "# Example usage\n",
    "if __name__ == \"__main__\":\n",
    "    # Input from the user\n",
    "    input_tuple = tuple(map(int, input(\"Enter integers separated by spaces: \").split()))\n",
    "    element = int(input(\"Enter the element to count: \"))\n",
    "    \n",
    "    # Find the count of occurrences\n",
    "    occurrences = count_occurrences(input_tuple, element)\n",
    "    print(f\"The element {element} occurs {occurrences} times in the tuple.\")\n"
   ]
  },
  {
   "cell_type": "code",
   "execution_count": 22,
   "id": "e8e6fc11-56e0-4ab9-9ead-6254523a6729",
   "metadata": {},
   "outputs": [
    {
     "name": "stdout",
     "output_type": "stream",
     "text": [
      "Enter the first set of strings (separated by spaces):  apple banana cherry\n",
      "Enter the second set of strings (separated by spaces):  banana cherry date\n"
     ]
    },
    {
     "name": "stdout",
     "output_type": "stream",
     "text": [
      "First set: {'apple', 'cherry', 'banana'}\n",
      "Second set: {'cherry', 'date', 'banana'}\n",
      "Symmetric difference: {'apple', 'date'}\n"
     ]
    }
   ],
   "source": [
    "# Q30. Develop a code that promts the user to the input two sets of strings. then, print the symmetric differences of these two sets.\n",
    "#Ans \n",
    "def main():\n",
    "    # Prompt the user to input two sets of strings\n",
    "    input1 = input(\"Enter the first set of strings (separated by spaces): \")\n",
    "    input2 = input(\"Enter the second set of strings (separated by spaces): \")\n",
    "\n",
    "    # Convert the input strings to sets of strings\n",
    "    set1 = set(input1.split())\n",
    "    set2 = set(input2.split())\n",
    "\n",
    "    # Compute the symmetric difference of the two sets\n",
    "    symmetric_difference = set1.symmetric_difference(set2)\n",
    "\n",
    "    # Print the result\n",
    "    print(\"First set:\", set1)\n",
    "    print(\"Second set:\", set2)\n",
    "    print(\"Symmetric difference:\", symmetric_difference)\n",
    "\n",
    "if __name__ == \"__main__\":\n",
    "    main()\n"
   ]
  },
  {
   "cell_type": "code",
   "execution_count": 23,
   "id": "d65ca4dc-6d1d-4577-afd2-53a8d8dd8150",
   "metadata": {},
   "outputs": [
    {
     "name": "stdout",
     "output_type": "stream",
     "text": [
      "Enter a list of words separated by spaces:  apple banana apple orange banana apple\n"
     ]
    },
    {
     "name": "stdout",
     "output_type": "stream",
     "text": [
      "Word frequencies: {'apple': 3, 'banana': 2, 'orange': 1}\n"
     ]
    }
   ],
   "source": [
    "# Q31. Write a code that takes a list of words as input and returns a dictionary where the keys are unique words and the values are the frequencies of those words in the input list.\n",
    "# Ans \n",
    "def count_word_frequencies(word_list):\n",
    "    \"\"\"\n",
    "    Takes a list of words and returns a dictionary with words as keys and their frequencies as values.\n",
    "    \n",
    "    Parameters:\n",
    "    - word_list: A list of words.\n",
    "    \n",
    "    Returns:\n",
    "    - A dictionary with words as keys and their frequencies as values.\n",
    "    \"\"\"\n",
    "    frequency_dict = {}\n",
    "    \n",
    "    # Count the frequency of each word\n",
    "    for word in word_list:\n",
    "        if word in frequency_dict:\n",
    "            frequency_dict[word] += 1\n",
    "        else:\n",
    "            frequency_dict[word] = 1\n",
    "    \n",
    "    return frequency_dict\n",
    "\n",
    "# Example usage\n",
    "if __name__ == \"__main__\":\n",
    "    # Input from the user\n",
    "    raw_input = input(\"Enter a list of words separated by spaces: \")\n",
    "    \n",
    "    # Convert the input string to a list of words\n",
    "    word_list = raw_input.split()\n",
    "    \n",
    "    # Get the word frequencies\n",
    "    word_frequencies = count_word_frequencies(word_list)\n",
    "    \n",
    "    # Print the result\n",
    "    print(\"Word frequencies:\", word_frequencies)\n"
   ]
  },
  {
   "cell_type": "code",
   "execution_count": 26,
   "id": "950b8f08-e189-450a-9e07-deeb5617ac1b",
   "metadata": {},
   "outputs": [
    {
     "name": "stdout",
     "output_type": "stream",
     "text": [
      "Enter the first dictionary (e.g., {'a': 1, 'b': 2}):  {'a': 1, 'b': 2}\n",
      "Enter the second dictionary (e.g., {'b': 3, 'c': 4}):  {'b': 3, 'c': 4}\n"
     ]
    },
    {
     "name": "stdout",
     "output_type": "stream",
     "text": [
      "Merged dictionary: {'a': 1, 'b': 5, 'c': 4}\n"
     ]
    }
   ],
   "source": [
    "# Q32. Write a code that takes two dictionaries as input and merges them into a single dictionary. If there are common keys, the values should be added together.\n",
    "# Ans \n",
    "def merge_dicts(dict1, dict2):\n",
    "    \"\"\"\n",
    "    Merges two dictionaries. If there are common keys, their values are added together.\n",
    "    \n",
    "    Parameters:\n",
    "    - dict1: The first dictionary.\n",
    "    - dict2: The second dictionary.\n",
    "    \n",
    "    Returns:\n",
    "    - A dictionary that is the result of merging dict1 and dict2.\n",
    "    \"\"\"\n",
    "    # Create a new dictionary to store the merged result\n",
    "    merged_dict = dict1.copy()  # Start with a copy of the first dictionary\n",
    "    \n",
    "    # Iterate through the second dictionary\n",
    "    for key, value in dict2.items():\n",
    "        if key in merged_dict:\n",
    "            # Add the values if the key already exists\n",
    "            merged_dict[key] += value\n",
    "        else:\n",
    "            # Add the key-value pair if the key does not exist\n",
    "            merged_dict[key] = value\n",
    "    \n",
    "    return merged_dict\n",
    "\n",
    "# Example usage\n",
    "if __name__ == \"__main__\":\n",
    "    import ast  # To safely evaluate the dictionary input\n",
    "    \n",
    "    # Input from the user\n",
    "    input1 = input(\"Enter the first dictionary (e.g., {'a': 1, 'b': 2}): \")\n",
    "    input2 = input(\"Enter the second dictionary (e.g., {'b': 3, 'c': 4}): \")\n",
    "    \n",
    "    try:\n",
    "        # Convert the input strings to dictionaries\n",
    "        dict1 = ast.literal_eval(input1)\n",
    "        dict2 = ast.literal_eval(input2)\n",
    "        \n",
    "        if not isinstance(dict1, dict) or not isinstance(dict2, dict):\n",
    "            raise ValueError(\"Both inputs must be dictionaries.\")\n",
    "        \n",
    "        # Merge the dictionaries\n",
    "        merged_dict = merge_dicts(dict1, dict2)\n",
    "        \n",
    "        # Print the result\n",
    "        print(\"Merged dictionary:\", merged_dict)\n",
    "    \n",
    "    except (SyntaxError, ValueError) as e:\n",
    "        print(\"Invalid input:\", e)\n"
   ]
  },
  {
   "cell_type": "code",
   "execution_count": 27,
   "id": "38185baf-71e3-47c8-96c8-f6aea4bc4538",
   "metadata": {},
   "outputs": [
    {
     "name": "stdout",
     "output_type": "stream",
     "text": [
      "Enter the list of keys separated by commas (e.g., a,b,c):  a,b,c\n"
     ]
    },
    {
     "name": "stdout",
     "output_type": "stream",
     "text": [
      "The result is: 42\n"
     ]
    }
   ],
   "source": [
    "# Q33. Write a code to access a value in a nested dictionary. The function should take the dictionary and a list of keys input, and returns the corresponding value. If any of the keys do not exist in the dictionary, the function should return none.\n",
    "#Ans\n",
    "def get_nested_value(nested_dict, keys):\n",
    "    \"\"\"\n",
    "    Accesses a value in a nested dictionary using a list of keys.\n",
    "    \n",
    "    Parameters:\n",
    "    - nested_dict: The dictionary to search within.\n",
    "    - keys: A list of keys representing the path to the desired value.\n",
    "    \n",
    "    Returns:\n",
    "    - The value corresponding to the list of keys, or None if any key does not exist.\n",
    "    \"\"\"\n",
    "    current_level = nested_dict\n",
    "    \n",
    "    for key in keys:\n",
    "        if isinstance(current_level, dict) and key in current_level:\n",
    "            current_level = current_level[key]\n",
    "        else:\n",
    "            return None\n",
    "    \n",
    "    return current_level\n",
    "\n",
    "# Example usage\n",
    "if __name__ == \"__main__\":\n",
    "    # Example nested dictionary\n",
    "    example_dict = {\n",
    "        'a': {\n",
    "            'b': {\n",
    "                'c': 42\n",
    "            },\n",
    "            'd': 100\n",
    "        },\n",
    "        'e': 200\n",
    "    }\n",
    "    \n",
    "    # Example key path\n",
    "    keys_input = input(\"Enter the list of keys separated by commas (e.g., a,b,c): \")\n",
    "    keys_list = [key.strip() for key in keys_input.split(',')]\n",
    "    \n",
    "    # Access value\n",
    "    result = get_nested_value(example_dict, keys_list)\n",
    "    print(\"The result is:\", result)\n"
   ]
  },
  {
   "cell_type": "code",
   "execution_count": 1,
   "id": "7184faf0-b386-40e4-a3a9-38d078b7c911",
   "metadata": {},
   "outputs": [
    {
     "name": "stdout",
     "output_type": "stream",
     "text": [
      "Enter the dictionary to sort (e.g., {'a': 3, 'b': 1, 'c': 2}):  {'a': 3, 'b': 1, 'c': 2}\n",
      "Enter sort order (asc/desc):  asc\n"
     ]
    },
    {
     "name": "stdout",
     "output_type": "stream",
     "text": [
      "Sorted dictionary: {'b': 1, 'c': 2, 'a': 3}\n"
     ]
    }
   ],
   "source": [
    "# Q.34. Write a code that takes a dictionary as input and returns a sorted version of it based on the values. You can choose whether to sort in ascending or descending order.\n",
    "#Ans \n",
    "def sort_dict_by_values(input_dict, descending=False):\n",
    "    \"\"\"\n",
    "    Sorts a dictionary based on its values.\n",
    "\n",
    "    Parameters:\n",
    "    - input_dict: The dictionary to be sorted.\n",
    "    - descending: Boolean flag to indicate sorting order. \n",
    "      If True, sort in descending order; if False, sort in ascending order.\n",
    "\n",
    "    Returns:\n",
    "    - A new dictionary sorted by values.\n",
    "    \"\"\"\n",
    "    # Convert dictionary to a list of tuples (key, value) and sort it\n",
    "    sorted_items = sorted(input_dict.items(), key=lambda item: item[1], reverse=descending)\n",
    "    \n",
    "    # Convert the sorted list of tuples back to a dictionary\n",
    "    sorted_dict = dict(sorted_items)\n",
    "    \n",
    "    return sorted_dict\n",
    "\n",
    "# Example usage\n",
    "if __name__ == \"__main__\":\n",
    "    import ast  # To safely evaluate the dictionary input\n",
    "\n",
    "    def get_dict_input(prompt):\n",
    "        \"\"\"\n",
    "        Prompts the user to enter a dictionary and safely parses it.\n",
    "        \n",
    "        Parameters:\n",
    "        - prompt: The prompt message for input.\n",
    "        \n",
    "        Returns:\n",
    "        - A dictionary parsed from the user input.\n",
    "        \"\"\"\n",
    "        while True:\n",
    "            try:\n",
    "                # Get user input\n",
    "                user_input = input(prompt)\n",
    "                \n",
    "                # Safely evaluate the input\n",
    "                user_dict = ast.literal_eval(user_input)\n",
    "                \n",
    "                # Validate that the input is a dictionary\n",
    "                if isinstance(user_dict, dict):\n",
    "                    return user_dict\n",
    "                else:\n",
    "                    print(\"The input is not a valid dictionary. Please try again.\")\n",
    "            except (SyntaxError, ValueError) as e:\n",
    "                print(\"Invalid input:\", e)\n",
    "\n",
    "    # Get dictionary from the user\n",
    "    input_dict = get_dict_input(\"Enter the dictionary to sort (e.g., {'a': 3, 'b': 1, 'c': 2}): \")\n",
    "\n",
    "    # Get sort order from the user\n",
    "    order_input = input(\"Enter sort order (asc/desc): \").strip().lower()\n",
    "    descending = True if order_input == 'desc' else False\n",
    "    \n",
    "    # Sort the dictionary\n",
    "    sorted_dict = sort_dict_by_values(input_dict, descending)\n",
    "    \n",
    "    # Print the result\n",
    "    print(\"Sorted dictionary:\", sorted_dict)\n"
   ]
  },
  {
   "cell_type": "code",
   "execution_count": 2,
   "id": "60a1593e-076a-4411-9ba6-b0bb5d41f882",
   "metadata": {},
   "outputs": [
    {
     "name": "stdout",
     "output_type": "stream",
     "text": [
      "Enter the dictionary to invert (e.g., {'a': 1, 'b': 2, 'c': 1}):  {'a': 1, 'b': 2, 'c': 1}\n"
     ]
    },
    {
     "name": "stdout",
     "output_type": "stream",
     "text": [
      "Inverted dictionary: {1: ['a', 'c'], 2: 'b'}\n"
     ]
    }
   ],
   "source": [
    "# Q .35. Write a code that inverts a dictionary, swapping keys and values. Ensure that the inverted dictionary correctly handle cases where multiple keys have the same value by storing the keys as a list in the inverted dictionary.\n",
    "# Ans - \n",
    "def invert_dict(input_dict):\n",
    "    \"\"\"\n",
    "    Inverts a dictionary, swapping keys and values. If multiple keys have the same value,\n",
    "    store the keys as a list in the inverted dictionary.\n",
    "\n",
    "    Parameters:\n",
    "    - input_dict: The dictionary to be inverted.\n",
    "\n",
    "    Returns:\n",
    "    - A new dictionary with keys and values swapped.\n",
    "    \"\"\"\n",
    "    inverted_dict = {}\n",
    "    \n",
    "    for key, value in input_dict.items():\n",
    "        if value in inverted_dict:\n",
    "            # Append key to the list of keys for this value\n",
    "            if isinstance(inverted_dict[value], list):\n",
    "                inverted_dict[value].append(key)\n",
    "            else:\n",
    "                inverted_dict[value] = [inverted_dict[value], key]\n",
    "        else:\n",
    "            # Create a new entry in the inverted dictionary\n",
    "            inverted_dict[value] = key\n",
    "    \n",
    "    return inverted_dict\n",
    "\n",
    "# Example usage\n",
    "if __name__ == \"__main__\":\n",
    "    import ast  # To safely evaluate the dictionary input\n",
    "\n",
    "    def get_dict_input(prompt):\n",
    "        \"\"\"\n",
    "        Prompts the user to enter a dictionary and safely parses it.\n",
    "        \n",
    "        Parameters:\n",
    "        - prompt: The prompt message for input.\n",
    "        \n",
    "        Returns:\n",
    "        - A dictionary parsed from the user input.\n",
    "        \"\"\"\n",
    "        while True:\n",
    "            try:\n",
    "                # Get user input\n",
    "                user_input = input(prompt)\n",
    "                \n",
    "                # Safely evaluate the input\n",
    "                user_dict = ast.literal_eval(user_input)\n",
    "                \n",
    "                # Validate that the input is a dictionary\n",
    "                if isinstance(user_dict, dict):\n",
    "                    return user_dict\n",
    "                else:\n",
    "                    print(\"The input is not a valid dictionary. Please try again.\")\n",
    "            except (SyntaxError, ValueError) as e:\n",
    "                print(\"Invalid input:\", e)\n",
    "\n",
    "    # Get dictionary from the user\n",
    "    input_dict = get_dict_input(\"Enter the dictionary to invert (e.g., {'a': 1, 'b': 2, 'c': 1}): \")\n",
    "    \n",
    "    # Invert the dictionary\n",
    "    inverted_dict = invert_dict(input_dict)\n",
    "    \n",
    "    # Print the result\n",
    "    print(\"Inverted dictionary:\", inverted_dict)\n"
   ]
  },
  {
   "cell_type": "code",
   "execution_count": null,
   "id": "691a8999-3b7a-4bfd-9476-43f690188ec1",
   "metadata": {},
   "outputs": [],
   "source": []
  }
 ],
 "metadata": {
  "kernelspec": {
   "display_name": "Python 3 (ipykernel)",
   "language": "python",
   "name": "python3"
  },
  "language_info": {
   "codemirror_mode": {
    "name": "ipython",
    "version": 3
   },
   "file_extension": ".py",
   "mimetype": "text/x-python",
   "name": "python",
   "nbconvert_exporter": "python",
   "pygments_lexer": "ipython3",
   "version": "3.10.8"
  }
 },
 "nbformat": 4,
 "nbformat_minor": 5
}
